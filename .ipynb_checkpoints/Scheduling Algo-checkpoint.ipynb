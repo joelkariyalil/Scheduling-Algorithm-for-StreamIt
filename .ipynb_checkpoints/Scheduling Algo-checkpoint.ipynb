{
 "cells": [
  {
   "cell_type": "code",
   "execution_count": null,
   "id": "12cace88",
   "metadata": {},
   "outputs": [],
   "source": [
    "max_diff=int(input('Enter the Tolerable Differnce: '))\n",
    "print('Enter the Bandwidths')\n",
    "arr=list(map(float,input().split()))\n",
    "arr.sort()\n",
    "i=0;j=0;group=1\n",
    "\n",
    "while 1:\n",
    "\n",
    "    if arr[i]<=arr[j]+max_diff:\n",
    "        print(arr[i],end='  ')\n",
    "        print('Group: ',group)\n",
    "        i=i+1\n",
    "    else:\n",
    "        j=i\n",
    "        group+=1\n",
    "    \n",
    "    if i==len(arr):\n",
    "        break"
   ]
  },
  {
   "cell_type": "code",
   "execution_count": null,
   "id": "b7e3f70d",
   "metadata": {},
   "outputs": [],
   "source": [
    "max_diff=int(input('Enter the Tolerable Differnce: '))\n",
    "print('Enter the Bandwidths(in Kbps)')\n",
    "arr=list(map(int,input().split()))\n",
    "arr.sort()\n",
    "i=0;j=1;group=1;count=0\n",
    "\n",
    "for i in range(len(arr)):\n",
    "    print(arr[i],end='  ')\n",
    "    print('Group: ',group)\n",
    "    if j!=len(arr) and arr[j]-arr[i]>max_diff:\n",
    "        group+=1\n",
    "    j+=1\n",
    "\n",
    "#Wrong as it's no longer a cluster!"
   ]
  },
  {
   "cell_type": "code",
   "execution_count": 7,
   "id": "c4e9f48f",
   "metadata": {},
   "outputs": [
    {
     "ename": "SyntaxError",
     "evalue": "(unicode error) 'unicodeescape' codec can't decode bytes in position 0-1: malformed \\N character escape (321887286.py, line 22)",
     "output_type": "error",
     "traceback": [
      "\u001b[1;36m  File \u001b[1;32m\"C:\\Users\\joeltc071\\AppData\\Local\\Temp\\ipykernel_7368\\321887286.py\"\u001b[1;36m, line \u001b[1;32m22\u001b[0m\n\u001b[1;33m    print('\\Normalized Cluster:')\u001b[0m\n\u001b[1;37m                                ^\u001b[0m\n\u001b[1;31mSyntaxError\u001b[0m\u001b[1;31m:\u001b[0m (unicode error) 'unicodeescape' codec can't decode bytes in position 0-1: malformed \\N character escape\n"
     ]
    }
   ],
   "source": [
    "#Using KMeans Clustering\n",
    "\n",
    "import numpy as np\n",
    "from sklearn.cluster import KMeans\n",
    "import warnings\n",
    "warnings.filterwarnings('ignore')\n",
    "\n",
    "# Step 1: Collect data on network speeds/bandwidths of all users\n",
    "# speeds = np.array([...])  # Array of network speeds/bandwidths\n",
    "print('Enter the Bandwidths')\n",
    "arr=list(map(float,input().split()))\n",
    "speeds=np.array(arr)\n",
    "\n",
    "# Step 2: Initialize number of clusters\n",
    "min_transfers = 1  # Minimum number of transfers sender can handle\n",
    "max_transfers = 3  # Maximum number of transfers sender can handle\n",
    "k = min(max(len(speeds) // max_transfers, 1), len(speeds) // min_transfers)  # Compute number of clusters\n",
    "print('K Value is: ',k)\n",
    "\n",
    "# Steps 3-4: Normalize and cluster data\n",
    "X = (speeds - np.mean(speeds)) / np.std(speeds)  # Normalize data\n",
    "print('\\n\\nNormalized Cluster:')\n",
    "print(labels)\n",
    "\n",
    "kmeans = KMeans(n_clusters=k).fit(X.reshape(-1, 1))  # Apply KMeans clustering\n",
    "\n",
    "# Step 5: Assign users to nearest cluster\n",
    "labels = kmeans.predict(X.reshape(-1, 1))  # Assign labels to each data point\n",
    "\n",
    "print('\\nLabels:')\n",
    "print(labels)\n",
    "\n",
    "# Step 6: Calculate average network speed/bandwidth for each cluster\n",
    "cluster_speeds = np.zeros(k)\n",
    "for i in range(k):\n",
    "    cluster_speeds[i] = np.mean(speeds[labels == i])\n",
    "\n",
    "# Step 7: Send data to each cluster\n",
    "#for i in range(k):\n",
    "    #send_data_to_cluster(cluster_speeds[i])\n",
    "    \n",
    "print('\\n\\n\\nCluster Speeds:\\n',cluster_speeds)\n",
    "\n",
    "# Step 8: Repeat until all data has been sent\n"
   ]
  },
  {
   "cell_type": "code",
   "execution_count": null,
   "id": "649f2a8d",
   "metadata": {},
   "outputs": [],
   "source": []
  }
 ],
 "metadata": {
  "kernelspec": {
   "display_name": "Python 3 (ipykernel)",
   "language": "python",
   "name": "python3"
  },
  "language_info": {
   "codemirror_mode": {
    "name": "ipython",
    "version": 3
   },
   "file_extension": ".py",
   "mimetype": "text/x-python",
   "name": "python",
   "nbconvert_exporter": "python",
   "pygments_lexer": "ipython3",
   "version": "3.9.13"
  }
 },
 "nbformat": 4,
 "nbformat_minor": 5
}
