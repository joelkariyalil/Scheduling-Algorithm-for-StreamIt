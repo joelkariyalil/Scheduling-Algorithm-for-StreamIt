{
 "cells": [
  {
   "cell_type": "code",
   "execution_count": 5,
   "id": "13ac8f19",
   "metadata": {},
   "outputs": [
    {
     "name": "stdout",
     "output_type": "stream",
     "text": [
      "Enter the Bandwidths\n",
      "10 20 30 40 50 60 70 80 90 100 110 120 130 140 150 160 170 180\n",
      "Enter Minimum Transfers: 1\n",
      "Enter Maximum Transfers: 3\n",
      "K Value is:  6\n",
      "\n",
      "The Clusters (Using KMeans Clustering)!\n",
      "\n",
      "10\t\tGroup: 0\n",
      "20\t\tGroup: 0\n",
      "30\t\tGroup: 0\n",
      "40\t\tGroup: 1\n",
      "50\t\tGroup: 1\n",
      "60\t\tGroup: 1\n",
      "70\t\tGroup: 2\n",
      "80\t\tGroup: 2\n",
      "90\t\tGroup: 2\n",
      "100\t\tGroup: 3\n",
      "110\t\tGroup: 3\n",
      "120\t\tGroup: 3\n",
      "130\t\tGroup: 4\n",
      "140\t\tGroup: 4\n",
      "150\t\tGroup: 4\n",
      "160\t\tGroup: 5\n",
      "170\t\tGroup: 5\n",
      "180\t\tGroup: 5\n",
      "\n",
      "\n",
      "\n",
      "Cluster Speeds:\n",
      " [ 20.  50.  80. 110. 140. 170.]\n"
     ]
    }
   ],
   "source": [
    "#Using KMeans Clustering\n",
    "\n",
    "import numpy as np\n",
    "from sklearn.cluster import KMeans\n",
    "import warnings\n",
    "warnings.filterwarnings('ignore')\n",
    "import matplotlib.pyplot as plt\n",
    "\n",
    "# Step 1: Collect data on network speeds/bandwidths of all users\n",
    "# Array of network speeds/bandwidths\n",
    "\n",
    "print('Enter the Bandwidths')\n",
    "arr=list(map(int,input().split()))\n",
    "arr.sort()\n",
    "speeds=np.array(arr)\n",
    "\n",
    "# Step 2: Initialize number of clusters\n",
    "\n",
    "min_transfers = int(input('Enter Minimum Transfers: '))  # Minimum number of transfers sender can handle\n",
    "max_transfers = int(input('Enter Maximum Transfers: '))  # Maximum number of transfers sender can handle (Based on Cloud Service Provider's RAM Specs)\n",
    "k = min(max(len(speeds) // max_transfers, 1), len(speeds) // min_transfers)  # Compute number of clusters\n",
    "print('K Value is: ',k)\n",
    "\n",
    "# Steps 3-4: Normalize and cluster data\n",
    "\n",
    "X = (speeds - np.mean(speeds)) / np.std(speeds)  # Normalize data\n",
    "'''print('\\n\\nNormalized Cluster:')\n",
    "print(X)\n",
    "print('X Reshapes:\\n',X.reshape(-1, 1))'''\n",
    "\n",
    "kmeans = KMeans(n_clusters=k).fit(X.reshape(-1, 1))  # Apply KMeans clustering\n",
    "\n",
    "# Step 5: Assign users to nearest cluster\n",
    "\n",
    "labels = kmeans.predict(X.reshape(-1, 1))  # Assign labels to each data point\n",
    "\n",
    "#Sorting the Labels\n",
    "labels=np.sort(labels)\n",
    "\n",
    "#Printing the Clusters and the Bandwidths\n",
    "\n",
    "print('\\nThe Clusters (Using KMeans Clustering)!\\n')\n",
    "for i in range(len(arr)):\n",
    "    print(f\"{arr[i]}\\t\\tGroup: {labels[i]}\")\n",
    "\n",
    "# Step 6: Calculate average network speed/bandwidth for each cluster\n",
    "\n",
    "cluster_speeds = np.zeros(k)\n",
    "for i in range(k):\n",
    "    cluster_speeds[i] = np.mean(X[labels == i] * np.std(speeds) + np.mean(speeds))\n",
    "    \n",
    "print('\\n\\n\\nCluster Speeds:\\n',cluster_speeds)\n",
    "\n",
    "\n",
    "#Note that the total number of clusters is inversily proportional to the Maximum Transfers Allowed.\n",
    "#More the transfers tolerated by the device, the lesser grouping of data will be present"
   ]
  },
  {
   "cell_type": "code",
   "execution_count": 8,
   "id": "40ea4d80",
   "metadata": {},
   "outputs": [
    {
     "data": {
      "image/png": "[encoded data removed]",
      "text/plain": [
       "<Figure size 432x288 with 1 Axes>"
      ]
     },
     "metadata": {
      "needs_background": "light"
     },
     "output_type": "display_data"
    }
   ],
   "source": [
    "#Displaying the KMeans Clustering Graphically using matplotlib.pyplot\n",
    "\n",
    "# Get cluster centers and assignments\n",
    "centers = cluster_speeds\n",
    "labels = kmeans.labels_\n",
    "#print(labels)\n",
    "\n",
    "# Plot data points and cluster centers\n",
    "fig, ax = plt.subplots()\n",
    "ax.scatter(speeds, np.zeros_like(speeds), c=labels)\n",
    "ax.scatter(centers, np.zeros_like(centers), marker='x', s=200, linewidths=3, color='r')\n",
    "ax.set_xlabel('Network Speeds')\n",
    "ax.set_title('KMeans Clustering of Network Speeds')\n",
    "\n",
    "# Show plot\n",
    "plt.show()"
   ]
  },
  {
   "cell_type": "code",
   "execution_count": null,
   "id": "a539032a",
   "metadata": {},
   "outputs": [],
   "source": []
  }
 ],
 "metadata": {
  "kernelspec": {
   "display_name": "Python 3",
   "language": "python",
   "name": "python3"
  },
  "language_info": {
   "codemirror_mode": {
    "name": "ipython",
    "version": 3
   },
   "file_extension": ".py",
   "mimetype": "text/x-python",
   "name": "python",
   "nbconvert_exporter": "python",
   "pygments_lexer": "ipython3",
   "version": "3.7.9"
  }
 },
 "nbformat": 4,
 "nbformat_minor": 5
}
