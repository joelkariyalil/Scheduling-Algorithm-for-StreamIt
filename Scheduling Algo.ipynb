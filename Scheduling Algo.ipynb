{
 "cells": [
  {
   "cell_type": "code",
   "execution_count": null,
   "id": "12cace88",
   "metadata": {},
   "outputs": [],
   "source": [
    "max_diff=int(input('Enter the Tolerable Differnce: '))\n",
    "print('Enter the Bandwidths')\n",
    "arr=list(map(float,input().split()))\n",
    "arr.sort()\n",
    "i=0;j=0;group=1\n",
    "\n",
    "while 1:\n",
    "\n",
    "    if arr[i]<=arr[j]+max_diff:\n",
    "        print(arr[i],end='  ')\n",
    "        print('Group: ',group)\n",
    "        i=i+1\n",
    "    else:\n",
    "        j=i\n",
    "        group+=1\n",
    "    \n",
    "    if i==len(arr):\n",
    "        break"
   ]
  },
  {
   "cell_type": "code",
   "execution_count": null,
   "id": "b7e3f70d",
   "metadata": {},
   "outputs": [],
   "source": [
    "max_diff=int(input('Enter the Tolerable Differnce: '))\n",
    "print('Enter the Bandwidths(in Kbps)')\n",
    "arr=list(map(int,input().split()))\n",
    "arr.sort()\n",
    "i=0;j=1;group=1;count=0\n",
    "\n",
    "for i in range(len(arr)):\n",
    "    print(arr[i],end='  ')\n",
    "    print('Group: ',group)\n",
    "    if j!=len(arr) and arr[j]-arr[i]>max_diff:\n",
    "        group+=1\n",
    "    j+=1\n",
    "\n",
    "#Wrong as it's no longer a cluster!"
   ]
  },
  {
   "cell_type": "code",
   "execution_count": 2,
   "id": "c4e9f48f",
   "metadata": {},
   "outputs": [
    {
     "name": "stdout",
     "output_type": "stream",
     "text": [
      "Enter the Bandwidths\n",
      "19 29 39 49 59 69 79 80 90 100\n",
      "K Value is:  3\n",
      "\n",
      "\n",
      "Normalized Cluster:\n",
      "[-1.65531424 -1.263987   -0.87265975 -0.48133251 -0.09000527  0.30132198\n",
      "  0.69264922  0.73178195  1.12310919  1.51443643]\n",
      "\n",
      "Labels:\n",
      "[0 0 0 0 1 1 1 2 2 2]\n",
      "\n",
      "\n",
      "\n",
      "Cluster Speeds:\n",
      " [34. 69. 90.]\n"
     ]
    }
   ],
   "source": [
    "#Using KMeans Clustering\n",
    "\n",
    "import numpy as np\n",
    "from sklearn.cluster import KMeans\n",
    "import warnings\n",
    "warnings.filterwarnings('ignore')\n",
    "\n",
    "# Step 1: Collect data on network speeds/bandwidths of all users\n",
    "# speeds = np.array([...])  # Array of network speeds/bandwidths\n",
    "print('Enter the Bandwidths')\n",
    "arr=list(map(int,input().split()))\n",
    "speeds=np.array(arr)\n",
    "\n",
    "# Step 2: Initialize number of clusters\n",
    "min_transfers = 1  # Minimum number of transfers sender can handle\n",
    "max_transfers = 3  # Maximum number of transfers sender can handle\n",
    "k = min(max(len(speeds) // max_transfers, 1), len(speeds) // min_transfers)  # Compute number of clusters\n",
    "print('K Value is: ',k)\n",
    "\n",
    "# Steps 3-4: Normalize and cluster data\n",
    "X = (speeds - np.mean(speeds)) / np.std(speeds)  # Normalize data\n",
    "print('\\n\\nNormalized Cluster:')\n",
    "print(X)\n",
    "#print('X Reshapes:\\n',X.reshape(-1, 1))\n",
    "\n",
    "kmeans = KMeans(n_clusters=k).fit(X.reshape(-1, 1))  # Apply KMeans clustering\n",
    "\n",
    "# Step 5: Assign users to nearest cluster\n",
    "labels = kmeans.predict(X.reshape(-1, 1))  # Assign labels to each data point\n",
    "\n",
    "print('\\nLabels:')\n",
    "labels=np.sort(labels)\n",
    "print(np.sort(labels))\n",
    "\n",
    "# Step 6: Calculate average network speed/bandwidth for each cluster\n",
    "cluster_speeds = np.zeros(k)\n",
    "for i in range(k):\n",
    "    cluster_speeds[i] = np.mean(X[labels == i] * np.std(speeds) + np.mean(speeds))\n",
    "    \n",
    "print('\\n\\n\\nCluster Speeds:\\n',cluster_speeds)\n",
    "\n",
    "\n",
    "\n",
    "#Note that the total number of clusters is inversily proportional to the Maximum Transfers Allowed.\n",
    "#More the transfers tolerated by the device, the lesser grouping of data will be present\n"
   ]
  },
  {
   "cell_type": "code",
   "execution_count": 5,
   "id": "afff80c9",
   "metadata": {},
   "outputs": [
    {
     "name": "stdout",
     "output_type": "stream",
     "text": [
      "User speeds: [10, 15, 20, 30, 35, 40, 50, 55, 60, 70, 75, 80, 90, 100]\n",
      "\n",
      "Number of clusters: 3\n",
      "\n",
      "Cluster assignments: [1, 1, 1, 5, 2, 2, 4, 4, 4, 0, 0, 0, 6, 3]\n",
      "\n",
      "Optimized data transfer plan:\n",
      "Transfer 1: [10, 15, 20, 10, 15]\n",
      "Transfer 2: [10, 15, 20, 10, 15]\n"
     ]
    }
   ],
   "source": [
    "from sklearn.cluster import KMeans\n",
    "\n",
    "# Set up user speeds\n",
    "speeds = [10, 15, 20, 30, 35, 40, 50, 55, 60, 70, 75, 80, 90, 100]\n",
    "\n",
    "# Set up KMeans clustering with 3 clusters\n",
    "n_clusters = 3\n",
    "max_transfers = 2\n",
    "min_transfers = 1\n",
    "k = min(max(len(speeds) // max_transfers, 1), len(speeds) // min_transfers)\n",
    "kmeans = KMeans(n_clusters=k, random_state=0).fit([[x] for x in speeds])\n",
    "\n",
    "# Get cluster assignments\n",
    "Labels = list(kmeans.labels_)\n",
    "\n",
    "# Get optimized data transfer plan\n",
    "groups = [Labels[i:i+k] for i in range(0, len(speeds), k)]\n",
    "plan = []\n",
    "for i in range(max_transfers):\n",
    "    transfer = []\n",
    "    for group in groups:\n",
    "        if len(group) > i:\n",
    "            transfer.extend([speeds[j] for j, label in enumerate(group) if label == group[i]])\n",
    "    plan.append(transfer)\n",
    "\n",
    "# Print results\n",
    "print(f\"User speeds: {speeds}\")\n",
    "print(f\"\\nNumber of clusters: {n_clusters}\")\n",
    "print(f\"\\nCluster assignments: {Labels}\")\n",
    "print(\"\\nOptimized data transfer plan:\")\n",
    "for i, transfer in enumerate(plan):\n",
    "    print(f\"Transfer {i+1}: {transfer}\")\n"
   ]
  },
  {
   "cell_type": "code",
   "execution_count": 7,
   "id": "f016201a",
   "metadata": {},
   "outputs": [
    {
     "name": "stdout",
     "output_type": "stream",
     "text": [
      "[[18.75]\n",
      " [83.  ]\n",
      " [48.  ]]\n",
      "[0 0 0 0 2 2 2 2 2 1 1 1 1 1]\n"
     ]
    },
    {
     "data": {
      "image/png": "[encoded data removed]",
      "text/plain": [
       "<Figure size 432x288 with 1 Axes>"
      ]
     },
     "metadata": {
      "needs_background": "light"
     },
     "output_type": "display_data"
    }
   ],
   "source": [
    "#Plotting the graph\n",
    "\n",
    "import matplotlib.pyplot as plt\n",
    "import numpy as np\n",
    "\n",
    "# Set up user speeds\n",
    "speeds = [10, 15, 20, 30, 35, 40, 50, 55, 60, 70, 75, 80, 90, 100]\n",
    "\n",
    "# Set up KMeans clustering with 3 clusters\n",
    "n_clusters = 3\n",
    "kmeans = KMeans(n_clusters=n_clusters, random_state=0).fit([[x] for x in speeds])\n",
    "\n",
    "# Get cluster centers and assignments\n",
    "centers = kmeans.cluster_centers_\n",
    "print(centers)\n",
    "labels = kmeans.labels_\n",
    "print(labels)\n",
    "\n",
    "# Plot data points and cluster centers\n",
    "fig, ax = plt.subplots()\n",
    "ax.scatter(speeds, np.zeros_like(speeds), c=labels)\n",
    "ax.scatter(centers, np.zeros_like(centers), marker='x', s=200, linewidths=3, color='r')\n",
    "ax.set_xlabel('Network Speeds')\n",
    "ax.set_title('KMeans Clustering of Network Speeds')\n",
    "\n",
    "# Show plot\n",
    "plt.show()"
   ]
  },
  {
   "cell_type": "code",
   "execution_count": 11,
   "id": "3f6fb22a",
   "metadata": {},
   "outputs": [
    {
     "ename": "AttributeError",
     "evalue": "'NoneType' object has no attribute 'split'",
     "output_type": "error",
     "traceback": [
      "\u001b[1;31m---------------------------------------------------------------------------\u001b[0m",
      "\u001b[1;31mAttributeError\u001b[0m                            Traceback (most recent call last)",
      "\u001b[1;32m~\\AppData\\Local\\Temp\\ipykernel_7420\\4207603491.py\u001b[0m in \u001b[0;36m<module>\u001b[1;34m\u001b[0m\n\u001b[0;32m      1\u001b[0m \u001b[0msample_string\u001b[0m \u001b[1;33m=\u001b[0m \u001b[1;32mNone\u001b[0m\u001b[1;33m\u001b[0m\u001b[1;33m\u001b[0m\u001b[0m\n\u001b[1;32m----> 2\u001b[1;33m \u001b[0mresult\u001b[0m \u001b[1;33m=\u001b[0m \u001b[0msample_string\u001b[0m\u001b[1;33m.\u001b[0m\u001b[0msplit\u001b[0m\u001b[1;33m(\u001b[0m\u001b[1;33m)\u001b[0m\u001b[1;33m\u001b[0m\u001b[1;33m\u001b[0m\u001b[0m\n\u001b[0m\u001b[0;32m      3\u001b[0m \u001b[0mprint\u001b[0m\u001b[1;33m(\u001b[0m\u001b[0mresult\u001b[0m\u001b[1;33m)\u001b[0m\u001b[1;33m\u001b[0m\u001b[1;33m\u001b[0m\u001b[0m\n",
      "\u001b[1;31mAttributeError\u001b[0m: 'NoneType' object has no attribute 'split'"
     ]
    }
   ],
   "source": [
    "sample_string = None\n",
    "result = sample_string.split()\n",
    "print(result)"
   ]
  },
  {
   "cell_type": "code",
   "execution_count": 8,
   "id": "cb1316a7",
   "metadata": {},
   "outputs": [
    {
     "name": "stdout",
     "output_type": "stream",
     "text": [
      "Enter the Bandwidths\n",
      "10 20 30 40 50 60 70 80 90 100 110 120 130\n",
      "K Value is:  2\n",
      "\n",
      "\n",
      "Normalized Cluster:\n",
      "[-1.60356745 -1.33630621 -1.06904497 -0.80178373 -0.53452248 -0.26726124\n",
      "  0.          0.26726124  0.53452248  0.80178373  1.06904497  1.33630621\n",
      "  1.60356745]\n",
      "\n",
      "Labels:\n",
      "[0 0 0 0 0 0 0 1 1 1 1 1 1]\n"
     ]
    }
   ],
   "source": [
    "import numpy as np\n",
    "from sklearn.cluster import KMeans\n",
    "import warnings\n",
    "warnings.filterwarnings('ignore')\n",
    "\n",
    "# Step 1: Collect data on network speeds/bandwidths of all users\n",
    "# speeds = np.array([...])  # Array of network speeds/bandwidths\n",
    "print('Enter the Bandwidths')\n",
    "arr=list(map(int,input().split()))\n",
    "speeds=np.array(arr)\n",
    "\n",
    "# Step 2: Initialize number of clusters\n",
    "min_transfers = 1  # Minimum number of transfers sender can handle\n",
    "max_transfers = 5  # Maximum number of transfers sender can handle\n",
    "k = min(max(len(speeds) // max_transfers, 1), len(speeds) // min_transfers)  # Compute number of clusters\n",
    "print('K Value is: ',k)\n",
    "\n",
    "# Steps 3-4: Normalize and cluster data\n",
    "X = (speeds - np.mean(speeds)) / np.std(speeds)  # Normalize data\n",
    "print('\\n\\nNormalized Cluster:')\n",
    "print(X)\n",
    "\n",
    "kmeans = KMeans(n_clusters=k).fit(X.reshape(-1, 1))  # Apply KMeans clustering\n",
    "\n",
    "# Step 5: Assign users to nearest cluster\n",
    "labels = kmeans.predict(X.reshape(-1, 1))  # Assign labels to each data point\n",
    "\n",
    "print('\\nLabels:')\n",
    "labels=np.sort(labels)\n",
    "print(np.sort(labels))\n"
   ]
  },
  {
   "cell_type": "code",
   "execution_count": 3,
   "id": "41bcde79",
   "metadata": {},
   "outputs": [
    {
     "name": "stdout",
     "output_type": "stream",
     "text": [
      "Enter the Bandwidths\n",
      "10 20 30 40 50 60 70 80 90 100 110 120 130 140 150 160\n",
      "K Value is:  5\n",
      "\n",
      "The Clusters (Using KMeans Clustering)!\n",
      "\n",
      "10\t\tGroup: 0\n",
      "20\t\tGroup: 0\n",
      "30\t\tGroup: 0\n",
      "40\t\tGroup: 1\n",
      "50\t\tGroup: 1\n",
      "60\t\tGroup: 1\n",
      "70\t\tGroup: 2\n",
      "80\t\tGroup: 2\n",
      "90\t\tGroup: 2\n",
      "100\t\tGroup: 3\n",
      "110\t\tGroup: 3\n",
      "120\t\tGroup: 3\n",
      "130\t\tGroup: 3\n",
      "140\t\tGroup: 4\n",
      "150\t\tGroup: 4\n",
      "160\t\tGroup: 4\n",
      "\n",
      "\n",
      "\n",
      "Cluster Speeds:\n",
      " [ 20.  50.  80. 115. 150.]\n"
     ]
    }
   ],
   "source": [
    "#Using KMeans Clustering\n",
    "\n",
    "import numpy as np\n",
    "from sklearn.cluster import KMeans\n",
    "import warnings\n",
    "warnings.filterwarnings('ignore')\n",
    "\n",
    "# Step 1: Collect data on network speeds/bandwidths of all users\n",
    "# Array of network speeds/bandwidths\n",
    "\n",
    "print('Enter the Bandwidths')\n",
    "arr=list(map(int,input().split()))\n",
    "arr.sort()\n",
    "speeds=np.array(arr)\n",
    "\n",
    "# Step 2: Initialize number of clusters\n",
    "\n",
    "min_transfers = 1  # Minimum number of transfers sender can handle\n",
    "max_transfers = 3  # Maximum number of transfers sender can handle (Based on Cloud Service Provider's RAM Specs)\n",
    "k = min(max(len(speeds) // max_transfers, 1), len(speeds) // min_transfers)  # Compute number of clusters\n",
    "print('K Value is: ',k)\n",
    "\n",
    "# Steps 3-4: Normalize and cluster data\n",
    "\n",
    "X = (speeds - np.mean(speeds)) / np.std(speeds)  # Normalize data\n",
    "'''print('\\n\\nNormalized Cluster:')\n",
    "print(X)\n",
    "print('X Reshapes:\\n',X.reshape(-1, 1))'''\n",
    "\n",
    "kmeans = KMeans(n_clusters=k).fit(X.reshape(-1, 1))  # Apply KMeans clustering\n",
    "\n",
    "# Step 5: Assign users to nearest cluster\n",
    "\n",
    "labels = kmeans.predict(X.reshape(-1, 1))  # Assign labels to each data point\n",
    "\n",
    "#Sorting the Labels\n",
    "labels=np.sort(labels)\n",
    "\n",
    "#Printing the Clusters and the Bandwidths\n",
    "\n",
    "print('\\nThe Clusters (Using KMeans Clustering)!\\n')\n",
    "for i in range(len(arr)):\n",
    "    print(f\"{arr[i]}\\t\\tGroup: {labels[i]}\")\n",
    "\n",
    "# Step 6: Calculate average network speed/bandwidth for each cluster\n",
    "\n",
    "cluster_speeds = np.zeros(k)\n",
    "for i in range(k):\n",
    "    cluster_speeds[i] = np.mean(X[labels == i] * np.std(speeds) + np.mean(speeds))\n",
    "    \n",
    "print('\\n\\n\\nCluster Speeds:\\n',cluster_speeds)\n",
    "\n",
    "\n",
    "\n",
    "#Note that the total number of clusters is inversily proportional to the Maximum Transfers Allowed.\n",
    "#More the transfers tolerated by the device, the lesser grouping of data will be present"
   ]
  },
  {
   "cell_type": "code",
   "execution_count": null,
   "id": "4a75d330",
   "metadata": {},
   "outputs": [],
   "source": []
  }
 ],
 "metadata": {
  "kernelspec": {
   "display_name": "Python 3",
   "language": "python",
   "name": "python3"
  },
  "language_info": {
   "codemirror_mode": {
    "name": "ipython",
    "version": 3
   },
   "file_extension": ".py",
   "mimetype": "text/x-python",
   "name": "python",
   "nbconvert_exporter": "python",
   "pygments_lexer": "ipython3",
   "version": "3.7.9"
  }
 },
 "nbformat": 4,
 "nbformat_minor": 5
}
