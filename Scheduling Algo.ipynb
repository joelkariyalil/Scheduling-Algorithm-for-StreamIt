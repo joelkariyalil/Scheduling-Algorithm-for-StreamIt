{
 "cells": [
  {
   "cell_type": "code",
   "execution_count": null,
   "id": "12cace88",
   "metadata": {},
   "outputs": [],
   "source": [
    "max_diff=int(input('Enter the Tolerable Differnce: '))\n",
    "print('Enter the Bandwidths')\n",
    "arr=list(map(float,input().split()))\n",
    "arr.sort()\n",
    "i=0;j=0;group=1\n",
    "\n",
    "while 1:\n",
    "\n",
    "    if arr[i]<=arr[j]+max_diff:\n",
    "        print(arr[i],end='  ')\n",
    "        print('Group: ',group)\n",
    "        i=i+1\n",
    "    else:\n",
    "        j=i\n",
    "        group+=1\n",
    "    \n",
    "    if i==len(arr):\n",
    "        break"
   ]
  },
  {
   "cell_type": "code",
   "execution_count": null,
   "id": "b7e3f70d",
   "metadata": {},
   "outputs": [],
   "source": [
    "max_diff=int(input('Enter the Tolerable Differnce: '))\n",
    "print('Enter the Bandwidths(in Kbps)')\n",
    "arr=list(map(int,input().split()))\n",
    "arr.sort()\n",
    "i=0;j=1;group=1;count=0\n",
    "\n",
    "for i in range(len(arr)):\n",
    "    print(arr[i],end='  ')\n",
    "    print('Group: ',group)\n",
    "    if j!=len(arr) and arr[j]-arr[i]>max_diff:\n",
    "        group+=1\n",
    "    j+=1\n",
    "\n",
    "#Wrong as it's no longer a cluster!"
   ]
  },
  {
   "cell_type": "code",
   "execution_count": 9,
   "id": "c4e9f48f",
   "metadata": {},
   "outputs": [
    {
     "name": "stdout",
     "output_type": "stream",
     "text": [
      "Enter the Bandwidths\n",
      "10 20 30 40 50 60 70 80 90 100\n",
      "K Value is:  3\n",
      "\n",
      "\n",
      "Normalized Cluster:\n",
      "[-1.5666989  -1.21854359 -0.87038828 -0.52223297 -0.17407766  0.17407766\n",
      "  0.52223297  0.87038828  1.21854359  1.5666989 ]\n",
      "\n",
      "Labels:\n",
      "[1 1 1 0 0 0 0 2 2 2]\n",
      "\n",
      "\n",
      "\n",
      "Cluster Speeds:\n",
      " [55. 20. 90.]\n"
     ]
    }
   ],
   "source": [
    "#Using KMeans Clustering\n",
    "\n",
    "import numpy as np\n",
    "from sklearn.cluster import KMeans\n",
    "import warnings\n",
    "warnings.filterwarnings('ignore')\n",
    "\n",
    "# Step 1: Collect data on network speeds/bandwidths of all users\n",
    "# speeds = np.array([...])  # Array of network speeds/bandwidths\n",
    "print('Enter the Bandwidths')\n",
    "arr=list(map(float,input().split()))\n",
    "speeds=np.array(arr)\n",
    "\n",
    "# Step 2: Initialize number of clusters\n",
    "min_transfers = 1  # Minimum number of transfers sender can handle\n",
    "max_transfers = 3  # Maximum number of transfers sender can handle\n",
    "k = min(max(len(speeds) // max_transfers, 1), len(speeds) // min_transfers)  # Compute number of clusters\n",
    "print('K Value is: ',k)\n",
    "\n",
    "# Steps 3-4: Normalize and cluster data\n",
    "X = (speeds - np.mean(speeds)) / np.std(speeds)  # Normalize data\n",
    "print('\\n\\nNormalized Cluster:')\n",
    "print(X)\n",
    "\n",
    "kmeans = KMeans(n_clusters=k).fit(X.reshape(-1, 1))  # Apply KMeans clustering\n",
    "\n",
    "# Step 5: Assign users to nearest cluster\n",
    "labels = kmeans.predict(X.reshape(-1, 1))  # Assign labels to each data point\n",
    "\n",
    "print('\\nLabels:')\n",
    "print(labels)\n",
    "\n",
    "# Step 6: Calculate average network speed/bandwidth for each cluster\n",
    "cluster_speeds = np.zeros(k)\n",
    "for i in range(k):\n",
    "    cluster_speeds[i] = np.mean(speeds[labels == i])\n",
    "\n",
    "# Step 7: Send data to each cluster\n",
    "#for i in range(k):\n",
    "    #send_data_to_cluster(cluster_speeds[i])\n",
    "    \n",
    "print('\\n\\n\\nCluster Speeds:\\n',cluster_speeds)\n",
    "\n",
    "# Step 8: Repeat until all data has been sent\n"
   ]
  },
  {
   "cell_type": "code",
   "execution_count": 11,
   "id": "81586fe6",
   "metadata": {},
   "outputs": [
    {
     "name": "stdout",
     "output_type": "stream",
     "text": [
      "User speeds: [10, 15, 20, 30, 35, 40, 50, 55, 60, 70, 75, 80, 90, 100]\n",
      "\n",
      "Number of clusters: 3\n",
      "\n",
      "Cluster assignments: [0, 0, 0, 0, 2, 2, 2, 2, 2, 1, 1, 1, 1, 1]\n",
      "\n",
      "Optimized data transfer plan:\n",
      "Transfer 1: [10, 15, 20, 30, 10, 15, 20, 30, 10, 10, 15]\n",
      "Transfer 2: [10, 15, 20, 30, 10, 15, 20, 30, 15, 20, 30, 10, 15]\n",
      "Transfer 3: [10, 15, 20, 30, 10, 15, 20, 30, 15, 20, 30]\n"
     ]
    }
   ],
   "source": [
    "from sklearn.cluster import KMeans\n",
    "\n",
    "# Set up user speeds\n",
    "speeds = [10, 15, 20, 30, 35, 40, 50, 55, 60, 70, 75, 80, 90, 100]\n",
    "\n",
    "# Set up KMeans clustering with 3 clusters\n",
    "n_clusters = 3\n",
    "kmeans = KMeans(n_clusters=n_clusters, random_state=0).fit([[x] for x in speeds])\n",
    "\n",
    "# Get cluster assignments\n",
    "Labels = list(kmeans.labels_)\n",
    "\n",
    "# Get optimized data transfer plan\n",
    "max_transfers = 3\n",
    "min_transfers = 1\n",
    "k = min(max(len(speeds) // max_transfers, 1), len(speeds) // min_transfers)\n",
    "groups = [Labels[i:i+k] for i in range(0, len(speeds), k)]\n",
    "plan = []\n",
    "for i in range(max_transfers):\n",
    "    transfer = []\n",
    "    for group in groups:\n",
    "        if len(group) > i:\n",
    "            transfer.extend([speeds[j] for j, label in enumerate(group) if label == group[i]])\n",
    "    plan.append(transfer)\n",
    "\n",
    "# Print results\n",
    "print(f\"User speeds: {speeds}\")\n",
    "print(f\"\\nNumber of clusters: {n_clusters}\")\n",
    "print(f\"\\nCluster assignments: {Labels}\")\n",
    "print(\"\\nOptimized data transfer plan:\")\n",
    "for i, transfer in enumerate(plan):\n",
    "    print(f\"Transfer {i+1}: {transfer}\")\n"
   ]
  },
  {
   "cell_type": "code",
   "execution_count": null,
   "id": "8bfe955e",
   "metadata": {},
   "outputs": [],
   "source": []
  }
 ],
 "metadata": {
  "kernelspec": {
   "display_name": "Python 3 (ipykernel)",
   "language": "python",
   "name": "python3"
  },
  "language_info": {
   "codemirror_mode": {
    "name": "ipython",
    "version": 3
   },
   "file_extension": ".py",
   "mimetype": "text/x-python",
   "name": "python",
   "nbconvert_exporter": "python",
   "pygments_lexer": "ipython3",
   "version": "3.9.13"
  }
 },
 "nbformat": 4,
 "nbformat_minor": 5
}
